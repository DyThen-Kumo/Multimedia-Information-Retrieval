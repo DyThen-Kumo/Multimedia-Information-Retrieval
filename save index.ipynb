{
 "cells": [
  {
   "cell_type": "code",
   "execution_count": 36,
   "metadata": {},
   "outputs": [],
   "source": [
    "import os\n",
    "import faiss\n",
    "import pickle\n",
    "import numpy as np"
   ]
  },
  {
   "cell_type": "code",
   "execution_count": 37,
   "metadata": {},
   "outputs": [],
   "source": [
    "features_path = r'C:\\Retrieval System\\features\\features_clip'"
   ]
  },
  {
   "cell_type": "code",
   "execution_count": 38,
   "metadata": {},
   "outputs": [],
   "source": [
    "def normalize_data(data):\n",
    "    # Kiểm tra nếu data là một vector 1 chiều\n",
    "    if data.ndim == 1:\n",
    "        normalized_data = data / np.linalg.norm(data)\n",
    "    else:\n",
    "        # Chuẩn hóa dữ liệu nếu là mảng 2 chiều\n",
    "        normalized_data = data / np.linalg.norm(data, axis=1, keepdims=True)\n",
    "    \n",
    "    return normalized_data"
   ]
  },
  {
   "cell_type": "code",
   "execution_count": 39,
   "metadata": {},
   "outputs": [
    {
     "name": "stdout",
     "output_type": "stream",
     "text": [
      "(6392, 512)\n",
      "512\n",
      "True\n",
      "6392\n"
     ]
    }
   ],
   "source": [
    "save_name_file = []\n",
    "features = []\n",
    "\n",
    "for file in os.listdir(features_path):\n",
    "    file_path = os.path.join(features_path, file)\n",
    "\n",
    "    with open(file_path, \"rb\") as f:\n",
    "        image_features_data = pickle.load(f) # 1 list, các phần tử là dict với image_name và features\n",
    "\n",
    "        for item in image_features_data:\n",
    "            features.append(item['features'])\n",
    "            save_name_file.append(item['image_name'])\n",
    "\n",
    "db = np.array(features)\n",
    "print(db.shape)\n",
    "\n",
    "d = db.shape[1]\n",
    "print(d)\n",
    "nb = db.shape[0]\n",
    "# nq = query_beit.shape[0]\n",
    "\n",
    "index = faiss.IndexFlatIP(d)   # build the index\n",
    "print(index.is_trained)\n",
    "index.add(normalize_data(db))  # add vectors to the index\n",
    "print(index.ntotal)\n",
    "\n",
    "save_path = os.path.join(r'C:\\Retrieval System\\Multimedia-Information-Retrieval\\index', 'IndexFlatIP_clip.pkl')\n",
    "# Lưu index và danh sách vào file\n",
    "with open(save_path, \"wb\") as f:\n",
    "    pickle.dump({\"index\": index, \"map_index\": save_name_file}, f)\n",
    "# print('hehe')"
   ]
  },
  {
   "cell_type": "code",
   "execution_count": 40,
   "metadata": {},
   "outputs": [],
   "source": [
    "m = 32 # Số phần con\n",
    "nbits = 8  # Số bit để mã hóa mỗi phần con\n",
    "\n",
    "# Tạo chỉ số PQ\n",
    "quantizer = faiss.IndexFlatIP(d)  # Index chuẩn để sử dụng làm bộ mã hóa (flat index)\n",
    "index = faiss.IndexPQ(d, m, nbits)  # IndexPQ với d chiều, m phần con và nbits bits\n",
    "\n",
    "# Đặt quantizer cho IndexPQ (bộ mã hóa)\n",
    "index.train(normalize_data(db))  # Huấn luyện trên dữ liệu mẫu\n",
    "index.add(normalize_data(db)) \n",
    "\n",
    "save_path = os.path.join(r'C:\\Retrieval System\\Multimedia-Information-Retrieval\\index', 'IndexPQ_clip.pkl')\n",
    "# Lưu index và danh sách vào file\n",
    "with open(save_path, \"wb\") as f:\n",
    "    pickle.dump({\"index\": index, \"map_index\": save_name_file}, f)"
   ]
  },
  {
   "cell_type": "code",
   "execution_count": 41,
   "metadata": {},
   "outputs": [],
   "source": [
    "nlist = 12\n",
    "# Tạo chỉ số PQ\n",
    "quantizer = faiss.IndexFlatIP(d)  # Index chuẩn để sử dụng làm bộ mã hóa (flat index)\n",
    "index = faiss.IndexIVFFlat(quantizer, d, nlist, faiss.METRIC_INNER_PRODUCT)\n",
    "\n",
    "# Đặt quantizer cho IndexPQ (bộ mã hóa)\n",
    "index.train(normalize_data(db))  # Huấn luyện trên dữ liệu mẫu\n",
    "index.add(normalize_data(db)) \n",
    "\n",
    "save_path = os.path.join(r'C:\\Retrieval System\\Multimedia-Information-Retrieval\\index', 'IndexIVFFlat_clip.pkl')\n",
    "# Lưu index và danh sách vào file\n",
    "with open(save_path, \"wb\") as f:\n",
    "    pickle.dump({\"index\": index, \"map_index\": save_name_file}, f)"
   ]
  }
 ],
 "metadata": {
  "kernelspec": {
   "display_name": "CS336",
   "language": "python",
   "name": "python3"
  },
  "language_info": {
   "codemirror_mode": {
    "name": "ipython",
    "version": 3
   },
   "file_extension": ".py",
   "mimetype": "text/x-python",
   "name": "python",
   "nbconvert_exporter": "python",
   "pygments_lexer": "ipython3",
   "version": "3.11.11"
  },
  "orig_nbformat": 4
 },
 "nbformat": 4,
 "nbformat_minor": 2
}
